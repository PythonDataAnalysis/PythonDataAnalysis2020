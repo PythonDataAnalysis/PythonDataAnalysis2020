{
 "cells": [
  {
   "cell_type": "code",
   "execution_count": 1,
   "metadata": {},
   "outputs": [],
   "source": [
    "import numpy as np\n",
    "import pandas as pd\n",
    "import matplotlib.pyplot as plt\n",
    "import seaborn as sns\n",
    "%matplotlib inline"
   ]
  },
  {
   "cell_type": "code",
   "execution_count": 2,
   "metadata": {},
   "outputs": [],
   "source": [
    "data = pd.read_csv('train.txt',sep='\\t')\n",
    "testX = pd.read_csv('test.txt',sep='\\t')\n",
    "testY = pd.read_csv('testY.txt',header = None)"
   ]
  },
  {
   "cell_type": "code",
   "execution_count": 3,
   "metadata": {},
   "outputs": [
    {
     "data": {
      "text/html": [
       "<div>\n",
       "<style scoped>\n",
       "    .dataframe tbody tr th:only-of-type {\n",
       "        vertical-align: middle;\n",
       "    }\n",
       "\n",
       "    .dataframe tbody tr th {\n",
       "        vertical-align: top;\n",
       "    }\n",
       "\n",
       "    .dataframe thead th {\n",
       "        text-align: right;\n",
       "    }\n",
       "</style>\n",
       "<table border=\"1\" class=\"dataframe\">\n",
       "  <thead>\n",
       "    <tr style=\"text-align: right;\">\n",
       "      <th></th>\n",
       "      <th>CustomerSubtypesee</th>\n",
       "      <th>Numberofhouses</th>\n",
       "      <th>Avgsizehousehold</th>\n",
       "      <th>Avgagesee</th>\n",
       "      <th>Customermaintype</th>\n",
       "      <th>Romancatholicsee</th>\n",
       "      <th>Protestant...</th>\n",
       "      <th>Otherreligion</th>\n",
       "      <th>Noreligion</th>\n",
       "      <th>Married</th>\n",
       "      <th>...</th>\n",
       "      <th>Numberofprivate.1</th>\n",
       "      <th>Numberoffamily</th>\n",
       "      <th>Numberofdisability</th>\n",
       "      <th>Numberoffire</th>\n",
       "      <th>Numberofsurfboard</th>\n",
       "      <th>Numberofboat</th>\n",
       "      <th>Numberofbicycle</th>\n",
       "      <th>Numberofproperty</th>\n",
       "      <th>Numberofsocial</th>\n",
       "      <th>Numberofmobile</th>\n",
       "    </tr>\n",
       "  </thead>\n",
       "  <tbody>\n",
       "    <tr>\n",
       "      <th>0</th>\n",
       "      <td>33</td>\n",
       "      <td>1</td>\n",
       "      <td>3</td>\n",
       "      <td>2</td>\n",
       "      <td>8</td>\n",
       "      <td>0</td>\n",
       "      <td>5</td>\n",
       "      <td>1</td>\n",
       "      <td>3</td>\n",
       "      <td>7</td>\n",
       "      <td>...</td>\n",
       "      <td>0</td>\n",
       "      <td>0</td>\n",
       "      <td>0</td>\n",
       "      <td>1</td>\n",
       "      <td>0</td>\n",
       "      <td>0</td>\n",
       "      <td>0</td>\n",
       "      <td>0</td>\n",
       "      <td>0</td>\n",
       "      <td>0</td>\n",
       "    </tr>\n",
       "    <tr>\n",
       "      <th>1</th>\n",
       "      <td>37</td>\n",
       "      <td>1</td>\n",
       "      <td>2</td>\n",
       "      <td>2</td>\n",
       "      <td>8</td>\n",
       "      <td>1</td>\n",
       "      <td>4</td>\n",
       "      <td>1</td>\n",
       "      <td>4</td>\n",
       "      <td>6</td>\n",
       "      <td>...</td>\n",
       "      <td>0</td>\n",
       "      <td>0</td>\n",
       "      <td>0</td>\n",
       "      <td>1</td>\n",
       "      <td>0</td>\n",
       "      <td>0</td>\n",
       "      <td>0</td>\n",
       "      <td>0</td>\n",
       "      <td>0</td>\n",
       "      <td>0</td>\n",
       "    </tr>\n",
       "    <tr>\n",
       "      <th>2</th>\n",
       "      <td>37</td>\n",
       "      <td>1</td>\n",
       "      <td>2</td>\n",
       "      <td>2</td>\n",
       "      <td>8</td>\n",
       "      <td>0</td>\n",
       "      <td>4</td>\n",
       "      <td>2</td>\n",
       "      <td>4</td>\n",
       "      <td>3</td>\n",
       "      <td>...</td>\n",
       "      <td>0</td>\n",
       "      <td>0</td>\n",
       "      <td>0</td>\n",
       "      <td>1</td>\n",
       "      <td>0</td>\n",
       "      <td>0</td>\n",
       "      <td>0</td>\n",
       "      <td>0</td>\n",
       "      <td>0</td>\n",
       "      <td>0</td>\n",
       "    </tr>\n",
       "    <tr>\n",
       "      <th>3</th>\n",
       "      <td>9</td>\n",
       "      <td>1</td>\n",
       "      <td>3</td>\n",
       "      <td>3</td>\n",
       "      <td>3</td>\n",
       "      <td>2</td>\n",
       "      <td>3</td>\n",
       "      <td>2</td>\n",
       "      <td>4</td>\n",
       "      <td>5</td>\n",
       "      <td>...</td>\n",
       "      <td>0</td>\n",
       "      <td>0</td>\n",
       "      <td>0</td>\n",
       "      <td>1</td>\n",
       "      <td>0</td>\n",
       "      <td>0</td>\n",
       "      <td>0</td>\n",
       "      <td>0</td>\n",
       "      <td>0</td>\n",
       "      <td>0</td>\n",
       "    </tr>\n",
       "    <tr>\n",
       "      <th>4</th>\n",
       "      <td>40</td>\n",
       "      <td>1</td>\n",
       "      <td>4</td>\n",
       "      <td>2</td>\n",
       "      <td>10</td>\n",
       "      <td>1</td>\n",
       "      <td>4</td>\n",
       "      <td>1</td>\n",
       "      <td>4</td>\n",
       "      <td>7</td>\n",
       "      <td>...</td>\n",
       "      <td>0</td>\n",
       "      <td>0</td>\n",
       "      <td>0</td>\n",
       "      <td>1</td>\n",
       "      <td>0</td>\n",
       "      <td>0</td>\n",
       "      <td>0</td>\n",
       "      <td>0</td>\n",
       "      <td>0</td>\n",
       "      <td>0</td>\n",
       "    </tr>\n",
       "  </tbody>\n",
       "</table>\n",
       "<p>5 rows × 86 columns</p>\n",
       "</div>"
      ],
      "text/plain": [
       "   CustomerSubtypesee  Numberofhouses  Avgsizehousehold  Avgagesee  \\\n",
       "0                  33               1                 3          2   \n",
       "1                  37               1                 2          2   \n",
       "2                  37               1                 2          2   \n",
       "3                   9               1                 3          3   \n",
       "4                  40               1                 4          2   \n",
       "\n",
       "   Customermaintype  Romancatholicsee  Protestant...  Otherreligion  \\\n",
       "0                 8                 0              5              1   \n",
       "1                 8                 1              4              1   \n",
       "2                 8                 0              4              2   \n",
       "3                 3                 2              3              2   \n",
       "4                10                 1              4              1   \n",
       "\n",
       "   Noreligion  Married  ...  Numberofprivate.1  Numberoffamily  \\\n",
       "0           3        7  ...                  0               0   \n",
       "1           4        6  ...                  0               0   \n",
       "2           4        3  ...                  0               0   \n",
       "3           4        5  ...                  0               0   \n",
       "4           4        7  ...                  0               0   \n",
       "\n",
       "   Numberofdisability  Numberoffire  Numberofsurfboard  Numberofboat  \\\n",
       "0                   0             1                  0             0   \n",
       "1                   0             1                  0             0   \n",
       "2                   0             1                  0             0   \n",
       "3                   0             1                  0             0   \n",
       "4                   0             1                  0             0   \n",
       "\n",
       "   Numberofbicycle  Numberofproperty  Numberofsocial  Numberofmobile  \n",
       "0                0                 0               0               0  \n",
       "1                0                 0               0               0  \n",
       "2                0                 0               0               0  \n",
       "3                0                 0               0               0  \n",
       "4                0                 0               0               0  \n",
       "\n",
       "[5 rows x 86 columns]"
      ]
     },
     "execution_count": 3,
     "metadata": {},
     "output_type": "execute_result"
    }
   ],
   "source": [
    "data.head()"
   ]
  },
  {
   "cell_type": "code",
   "execution_count": 4,
   "metadata": {},
   "outputs": [
    {
     "name": "stdout",
     "output_type": "stream",
     "text": [
      "<class 'pandas.core.frame.DataFrame'>\n",
      "RangeIndex: 5822 entries, 0 to 5821\n",
      "Data columns (total 86 columns):\n",
      "CustomerSubtypesee                        5822 non-null int64\n",
      "Numberofhouses                            5822 non-null int64\n",
      "Avgsizehousehold                          5822 non-null int64\n",
      "Avgagesee                                 5822 non-null int64\n",
      "Customermaintype                          5822 non-null int64\n",
      "Romancatholicsee                          5822 non-null int64\n",
      "Protestant...                             5822 non-null int64\n",
      "Otherreligion                             5822 non-null int64\n",
      "Noreligion                                5822 non-null int64\n",
      "Married                                   5822 non-null int64\n",
      "Livingtogether                            5822 non-null int64\n",
      "Otherrelation                             5822 non-null int64\n",
      "Singles                                   5822 non-null int64\n",
      "Householdwithoutchildren                  5822 non-null int64\n",
      "Householdwithchildren                     5822 non-null int64\n",
      "Highleveleducation                        5822 non-null int64\n",
      "Mediumleveleducation                      5822 non-null int64\n",
      "Lowerleveleducation                       5822 non-null int64\n",
      "Highstatus                                5822 non-null int64\n",
      "Entrepreneur                              5822 non-null int64\n",
      "Farmer                                    5822 non-null int64\n",
      "Middlemanagement                          5822 non-null int64\n",
      "Skilledlabourers                          5822 non-null int64\n",
      "Unskilledlabourers                        5822 non-null int64\n",
      "SocialclassA                              5822 non-null int64\n",
      "SocialclassB1                             5822 non-null int64\n",
      "SocialclassB2                             5822 non-null int64\n",
      "SocialclassC                              5822 non-null int64\n",
      "SocialclassD                              5822 non-null int64\n",
      "Rentedhouse                               5822 non-null int64\n",
      "Homeowners                                5822 non-null int64\n",
      "1car                                      5822 non-null int64\n",
      "2cars                                     5822 non-null int64\n",
      "Nocar                                     5822 non-null int64\n",
      "NationalHealthService                     5822 non-null int64\n",
      "Privatehealthinsurance                    5822 non-null int64\n",
      "Income<30                                 5822 non-null int64\n",
      "Income30-45.000                           5822 non-null int64\n",
      "Income45-75.000                           5822 non-null int64\n",
      "Income75-122.000                          5822 non-null int64\n",
      "Income>123.000                            5822 non-null int64\n",
      "Averageincome                             5822 non-null int64\n",
      "Purchasingpowerclass                      5822 non-null int64\n",
      "Contributionprivatethird                  5822 non-null int64\n",
      "Contributionthirdparty                    5822 non-null int64\n",
      "Contributionthirdparty.1                  5822 non-null int64\n",
      "Contributioncarpolicies                   5822 non-null int64\n",
      "Contributiondeliveryvan                   5822 non-null int64\n",
      "Contributionmotorcycle/scooterpolicies    5822 non-null int64\n",
      "Contributionlorrypolicies                 5822 non-null int64\n",
      "Contributiontrailerpolicies               5822 non-null int64\n",
      "Contributiontractorpolicies               5822 non-null int64\n",
      "Contributionagriculturalmachines          5822 non-null int64\n",
      "Contributionmopedpolicies                 5822 non-null int64\n",
      "Contributionlifeinsurances                5822 non-null int64\n",
      "Contributionprivateaccident               5822 non-null int64\n",
      "Contributionfamilyaccidents               5822 non-null int64\n",
      "Contributiondisabilityinsurance           5822 non-null int64\n",
      "Contributionfirepolicies                  5822 non-null int64\n",
      "Contributionsurfboardpolicies             5822 non-null int64\n",
      "Contributionboatpolicies                  5822 non-null int64\n",
      "Contributionbicyclepolicies               5822 non-null int64\n",
      "Contributionpropertyinsurance             5822 non-null int64\n",
      "Contributionsocialsecurity                5822 non-null int64\n",
      "Numberofprivate                           5822 non-null int64\n",
      "Numberofthird                             5822 non-null int64\n",
      "Numberofthird.1                           5822 non-null int64\n",
      "Numberofcar                               5822 non-null int64\n",
      "Numberofdelivery                          5822 non-null int64\n",
      "Numberofmotorcycle/scooter                5822 non-null int64\n",
      "Numberoflorry                             5822 non-null int64\n",
      "Numberoftrailer                           5822 non-null int64\n",
      "Numberoftractor                           5822 non-null int64\n",
      "Numberofagricultural                      5822 non-null int64\n",
      "Numberofmoped                             5822 non-null int64\n",
      "Numberoflife                              5822 non-null int64\n",
      "Numberofprivate.1                         5822 non-null int64\n",
      "Numberoffamily                            5822 non-null int64\n",
      "Numberofdisability                        5822 non-null int64\n",
      "Numberoffire                              5822 non-null int64\n",
      "Numberofsurfboard                         5822 non-null int64\n",
      "Numberofboat                              5822 non-null int64\n",
      "Numberofbicycle                           5822 non-null int64\n",
      "Numberofproperty                          5822 non-null int64\n",
      "Numberofsocial                            5822 non-null int64\n",
      "Numberofmobile                            5822 non-null int64\n",
      "dtypes: int64(86)\n",
      "memory usage: 3.8 MB\n"
     ]
    }
   ],
   "source": [
    "data.info()"
   ]
  },
  {
   "cell_type": "code",
   "execution_count": 5,
   "metadata": {},
   "outputs": [
    {
     "data": {
      "text/html": [
       "<div>\n",
       "<style scoped>\n",
       "    .dataframe tbody tr th:only-of-type {\n",
       "        vertical-align: middle;\n",
       "    }\n",
       "\n",
       "    .dataframe tbody tr th {\n",
       "        vertical-align: top;\n",
       "    }\n",
       "\n",
       "    .dataframe thead th {\n",
       "        text-align: right;\n",
       "    }\n",
       "</style>\n",
       "<table border=\"1\" class=\"dataframe\">\n",
       "  <thead>\n",
       "    <tr style=\"text-align: right;\">\n",
       "      <th></th>\n",
       "      <th>CustomerSubtypesee</th>\n",
       "      <th>Numberofhouses</th>\n",
       "      <th>Avgsizehousehold</th>\n",
       "      <th>Avgagesee</th>\n",
       "      <th>Customermaintype</th>\n",
       "      <th>Romancatholicsee</th>\n",
       "      <th>Protestant...</th>\n",
       "      <th>Otherreligion</th>\n",
       "      <th>Noreligion</th>\n",
       "      <th>Married</th>\n",
       "      <th>...</th>\n",
       "      <th>Numberofprivate.1</th>\n",
       "      <th>Numberoffamily</th>\n",
       "      <th>Numberofdisability</th>\n",
       "      <th>Numberoffire</th>\n",
       "      <th>Numberofsurfboard</th>\n",
       "      <th>Numberofboat</th>\n",
       "      <th>Numberofbicycle</th>\n",
       "      <th>Numberofproperty</th>\n",
       "      <th>Numberofsocial</th>\n",
       "      <th>Numberofmobile</th>\n",
       "    </tr>\n",
       "  </thead>\n",
       "  <tbody>\n",
       "    <tr>\n",
       "      <th>count</th>\n",
       "      <td>5822.000000</td>\n",
       "      <td>5822.000000</td>\n",
       "      <td>5822.000000</td>\n",
       "      <td>5822.000000</td>\n",
       "      <td>5822.000000</td>\n",
       "      <td>5822.000000</td>\n",
       "      <td>5822.000000</td>\n",
       "      <td>5822.000000</td>\n",
       "      <td>5822.000000</td>\n",
       "      <td>5822.000000</td>\n",
       "      <td>...</td>\n",
       "      <td>5822.000000</td>\n",
       "      <td>5822.000000</td>\n",
       "      <td>5822.000000</td>\n",
       "      <td>5822.000000</td>\n",
       "      <td>5822.000000</td>\n",
       "      <td>5822.000000</td>\n",
       "      <td>5822.000000</td>\n",
       "      <td>5822.000000</td>\n",
       "      <td>5822.000000</td>\n",
       "      <td>5822.000000</td>\n",
       "    </tr>\n",
       "    <tr>\n",
       "      <th>mean</th>\n",
       "      <td>24.253349</td>\n",
       "      <td>1.110615</td>\n",
       "      <td>2.678805</td>\n",
       "      <td>2.991240</td>\n",
       "      <td>5.773617</td>\n",
       "      <td>0.696496</td>\n",
       "      <td>4.626932</td>\n",
       "      <td>1.069907</td>\n",
       "      <td>3.258502</td>\n",
       "      <td>6.183442</td>\n",
       "      <td>...</td>\n",
       "      <td>0.005325</td>\n",
       "      <td>0.006527</td>\n",
       "      <td>0.004638</td>\n",
       "      <td>0.570079</td>\n",
       "      <td>0.000515</td>\n",
       "      <td>0.006012</td>\n",
       "      <td>0.031776</td>\n",
       "      <td>0.007901</td>\n",
       "      <td>0.014256</td>\n",
       "      <td>0.059773</td>\n",
       "    </tr>\n",
       "    <tr>\n",
       "      <th>std</th>\n",
       "      <td>12.846706</td>\n",
       "      <td>0.405842</td>\n",
       "      <td>0.789835</td>\n",
       "      <td>0.814589</td>\n",
       "      <td>2.856760</td>\n",
       "      <td>1.003234</td>\n",
       "      <td>1.715843</td>\n",
       "      <td>1.017503</td>\n",
       "      <td>1.597647</td>\n",
       "      <td>1.909482</td>\n",
       "      <td>...</td>\n",
       "      <td>0.072782</td>\n",
       "      <td>0.080532</td>\n",
       "      <td>0.077403</td>\n",
       "      <td>0.562058</td>\n",
       "      <td>0.022696</td>\n",
       "      <td>0.081632</td>\n",
       "      <td>0.210986</td>\n",
       "      <td>0.090463</td>\n",
       "      <td>0.119996</td>\n",
       "      <td>0.237087</td>\n",
       "    </tr>\n",
       "    <tr>\n",
       "      <th>min</th>\n",
       "      <td>1.000000</td>\n",
       "      <td>1.000000</td>\n",
       "      <td>1.000000</td>\n",
       "      <td>1.000000</td>\n",
       "      <td>1.000000</td>\n",
       "      <td>0.000000</td>\n",
       "      <td>0.000000</td>\n",
       "      <td>0.000000</td>\n",
       "      <td>0.000000</td>\n",
       "      <td>0.000000</td>\n",
       "      <td>...</td>\n",
       "      <td>0.000000</td>\n",
       "      <td>0.000000</td>\n",
       "      <td>0.000000</td>\n",
       "      <td>0.000000</td>\n",
       "      <td>0.000000</td>\n",
       "      <td>0.000000</td>\n",
       "      <td>0.000000</td>\n",
       "      <td>0.000000</td>\n",
       "      <td>0.000000</td>\n",
       "      <td>0.000000</td>\n",
       "    </tr>\n",
       "    <tr>\n",
       "      <th>25%</th>\n",
       "      <td>10.000000</td>\n",
       "      <td>1.000000</td>\n",
       "      <td>2.000000</td>\n",
       "      <td>2.000000</td>\n",
       "      <td>3.000000</td>\n",
       "      <td>0.000000</td>\n",
       "      <td>4.000000</td>\n",
       "      <td>0.000000</td>\n",
       "      <td>2.000000</td>\n",
       "      <td>5.000000</td>\n",
       "      <td>...</td>\n",
       "      <td>0.000000</td>\n",
       "      <td>0.000000</td>\n",
       "      <td>0.000000</td>\n",
       "      <td>0.000000</td>\n",
       "      <td>0.000000</td>\n",
       "      <td>0.000000</td>\n",
       "      <td>0.000000</td>\n",
       "      <td>0.000000</td>\n",
       "      <td>0.000000</td>\n",
       "      <td>0.000000</td>\n",
       "    </tr>\n",
       "    <tr>\n",
       "      <th>50%</th>\n",
       "      <td>30.000000</td>\n",
       "      <td>1.000000</td>\n",
       "      <td>3.000000</td>\n",
       "      <td>3.000000</td>\n",
       "      <td>7.000000</td>\n",
       "      <td>0.000000</td>\n",
       "      <td>5.000000</td>\n",
       "      <td>1.000000</td>\n",
       "      <td>3.000000</td>\n",
       "      <td>6.000000</td>\n",
       "      <td>...</td>\n",
       "      <td>0.000000</td>\n",
       "      <td>0.000000</td>\n",
       "      <td>0.000000</td>\n",
       "      <td>1.000000</td>\n",
       "      <td>0.000000</td>\n",
       "      <td>0.000000</td>\n",
       "      <td>0.000000</td>\n",
       "      <td>0.000000</td>\n",
       "      <td>0.000000</td>\n",
       "      <td>0.000000</td>\n",
       "    </tr>\n",
       "    <tr>\n",
       "      <th>75%</th>\n",
       "      <td>35.000000</td>\n",
       "      <td>1.000000</td>\n",
       "      <td>3.000000</td>\n",
       "      <td>3.000000</td>\n",
       "      <td>8.000000</td>\n",
       "      <td>1.000000</td>\n",
       "      <td>6.000000</td>\n",
       "      <td>2.000000</td>\n",
       "      <td>4.000000</td>\n",
       "      <td>7.000000</td>\n",
       "      <td>...</td>\n",
       "      <td>0.000000</td>\n",
       "      <td>0.000000</td>\n",
       "      <td>0.000000</td>\n",
       "      <td>1.000000</td>\n",
       "      <td>0.000000</td>\n",
       "      <td>0.000000</td>\n",
       "      <td>0.000000</td>\n",
       "      <td>0.000000</td>\n",
       "      <td>0.000000</td>\n",
       "      <td>0.000000</td>\n",
       "    </tr>\n",
       "    <tr>\n",
       "      <th>max</th>\n",
       "      <td>41.000000</td>\n",
       "      <td>10.000000</td>\n",
       "      <td>5.000000</td>\n",
       "      <td>6.000000</td>\n",
       "      <td>10.000000</td>\n",
       "      <td>9.000000</td>\n",
       "      <td>9.000000</td>\n",
       "      <td>5.000000</td>\n",
       "      <td>9.000000</td>\n",
       "      <td>9.000000</td>\n",
       "      <td>...</td>\n",
       "      <td>1.000000</td>\n",
       "      <td>1.000000</td>\n",
       "      <td>2.000000</td>\n",
       "      <td>7.000000</td>\n",
       "      <td>1.000000</td>\n",
       "      <td>2.000000</td>\n",
       "      <td>3.000000</td>\n",
       "      <td>2.000000</td>\n",
       "      <td>2.000000</td>\n",
       "      <td>1.000000</td>\n",
       "    </tr>\n",
       "  </tbody>\n",
       "</table>\n",
       "<p>8 rows × 86 columns</p>\n",
       "</div>"
      ],
      "text/plain": [
       "       CustomerSubtypesee  Numberofhouses  Avgsizehousehold    Avgagesee  \\\n",
       "count         5822.000000     5822.000000       5822.000000  5822.000000   \n",
       "mean            24.253349        1.110615          2.678805     2.991240   \n",
       "std             12.846706        0.405842          0.789835     0.814589   \n",
       "min              1.000000        1.000000          1.000000     1.000000   \n",
       "25%             10.000000        1.000000          2.000000     2.000000   \n",
       "50%             30.000000        1.000000          3.000000     3.000000   \n",
       "75%             35.000000        1.000000          3.000000     3.000000   \n",
       "max             41.000000       10.000000          5.000000     6.000000   \n",
       "\n",
       "       Customermaintype  Romancatholicsee  Protestant...  Otherreligion  \\\n",
       "count       5822.000000       5822.000000    5822.000000    5822.000000   \n",
       "mean           5.773617          0.696496       4.626932       1.069907   \n",
       "std            2.856760          1.003234       1.715843       1.017503   \n",
       "min            1.000000          0.000000       0.000000       0.000000   \n",
       "25%            3.000000          0.000000       4.000000       0.000000   \n",
       "50%            7.000000          0.000000       5.000000       1.000000   \n",
       "75%            8.000000          1.000000       6.000000       2.000000   \n",
       "max           10.000000          9.000000       9.000000       5.000000   \n",
       "\n",
       "        Noreligion      Married  ...  Numberofprivate.1  Numberoffamily  \\\n",
       "count  5822.000000  5822.000000  ...        5822.000000     5822.000000   \n",
       "mean      3.258502     6.183442  ...           0.005325        0.006527   \n",
       "std       1.597647     1.909482  ...           0.072782        0.080532   \n",
       "min       0.000000     0.000000  ...           0.000000        0.000000   \n",
       "25%       2.000000     5.000000  ...           0.000000        0.000000   \n",
       "50%       3.000000     6.000000  ...           0.000000        0.000000   \n",
       "75%       4.000000     7.000000  ...           0.000000        0.000000   \n",
       "max       9.000000     9.000000  ...           1.000000        1.000000   \n",
       "\n",
       "       Numberofdisability  Numberoffire  Numberofsurfboard  Numberofboat  \\\n",
       "count         5822.000000   5822.000000        5822.000000   5822.000000   \n",
       "mean             0.004638      0.570079           0.000515      0.006012   \n",
       "std              0.077403      0.562058           0.022696      0.081632   \n",
       "min              0.000000      0.000000           0.000000      0.000000   \n",
       "25%              0.000000      0.000000           0.000000      0.000000   \n",
       "50%              0.000000      1.000000           0.000000      0.000000   \n",
       "75%              0.000000      1.000000           0.000000      0.000000   \n",
       "max              2.000000      7.000000           1.000000      2.000000   \n",
       "\n",
       "       Numberofbicycle  Numberofproperty  Numberofsocial  Numberofmobile  \n",
       "count      5822.000000       5822.000000     5822.000000     5822.000000  \n",
       "mean          0.031776          0.007901        0.014256        0.059773  \n",
       "std           0.210986          0.090463        0.119996        0.237087  \n",
       "min           0.000000          0.000000        0.000000        0.000000  \n",
       "25%           0.000000          0.000000        0.000000        0.000000  \n",
       "50%           0.000000          0.000000        0.000000        0.000000  \n",
       "75%           0.000000          0.000000        0.000000        0.000000  \n",
       "max           3.000000          2.000000        2.000000        1.000000  \n",
       "\n",
       "[8 rows x 86 columns]"
      ]
     },
     "execution_count": 5,
     "metadata": {},
     "output_type": "execute_result"
    }
   ],
   "source": [
    "data.describe()"
   ]
  },
  {
   "cell_type": "code",
   "execution_count": 6,
   "metadata": {},
   "outputs": [
    {
     "data": {
      "image/png": "[encoded data removed]",
      "text/plain": [
       "<Figure size 720x432 with 1 Axes>"
      ]
     },
     "metadata": {},
     "output_type": "display_data"
    }
   ],
   "source": [
    "f,ax=plt.subplots(1,1,figsize=(10,6))\n",
    "data['Numberofmobile'].value_counts().plot.pie(explode=[0,0.1],autopct='%1.1f%%',ax=ax,shadow=True)\n",
    "ax.set_title('Numberofmobile')\n",
    "ax.set_ylabel('')\n",
    "plt.show()"
   ]
  },
  {
   "cell_type": "code",
   "execution_count": 7,
   "metadata": {},
   "outputs": [
    {
     "data": {
      "text/plain": [
       "3    3000\n",
       "2    1452\n",
       "4    1073\n",
       "5     193\n",
       "1      74\n",
       "6      30\n",
       "Name: Avgagesee, dtype: int64"
      ]
     },
     "execution_count": 7,
     "metadata": {},
     "output_type": "execute_result"
    }
   ],
   "source": [
    "data_avgage = data['Avgagesee'].value_counts()\n",
    "data_avgage"
   ]
  },
  {
   "cell_type": "code",
   "execution_count": 8,
   "metadata": {},
   "outputs": [
    {
     "data": {
      "image/png": "[encoded data removed]",
      "text/plain": [
       "<Figure size 720x432 with 1 Axes>"
      ]
     },
     "metadata": {
      "needs_background": "light"
     },
     "output_type": "display_data"
    }
   ],
   "source": [
    "f,ax=plt.subplots(1,1,figsize=(10,6))\n",
    "data['Avgagesee'].value_counts().plot.bar(color=['#CD7F32','#FFDF00','#D3D3D3'])\n",
    "ax.set_title('Avgage')\n",
    "ax.set_ylabel('Count')\n",
    "plt.show()"
   ]
  },
  {
   "cell_type": "code",
   "execution_count": 9,
   "metadata": {},
   "outputs": [
    {
     "data": {
      "text/plain": [
       "1     5267\n",
       "2      505\n",
       "3       39\n",
       "7        5\n",
       "4        2\n",
       "10       1\n",
       "6        1\n",
       "5        1\n",
       "8        1\n",
       "Name: Numberofhouses, dtype: int64"
      ]
     },
     "execution_count": 9,
     "metadata": {},
     "output_type": "execute_result"
    }
   ],
   "source": [
    "data_numofhouse = data['Numberofhouses'].value_counts()\n",
    "data_numofhouse"
   ]
  },
  {
   "cell_type": "code",
   "execution_count": 10,
   "metadata": {},
   "outputs": [
    {
     "data": {
      "image/png": "[encoded data removed]",
      "text/plain": [
       "<Figure size 720x432 with 1 Axes>"
      ]
     },
     "metadata": {
      "needs_background": "light"
     },
     "output_type": "display_data"
    }
   ],
   "source": [
    "f,ax=plt.subplots(1,1,figsize=(10,6))\n",
    "data['Numberofhouses'].value_counts().plot.bar(color=['#CD7F32','#FFDF00','#D3D3D3'])\n",
    "ax.set_title('Numberofhouses')\n",
    "ax.set_ylabel('Count')\n",
    "plt.show()"
   ]
  },
  {
   "cell_type": "code",
   "execution_count": 11,
   "metadata": {},
   "outputs": [
    {
     "data": {
      "image/png": "[encoded data removed]",
      "text/plain": [
       "<Figure size 720x432 with 1 Axes>"
      ]
     },
     "metadata": {
      "needs_background": "light"
     },
     "output_type": "display_data"
    }
   ],
   "source": [
    "f,ax=plt.subplots(1,1,figsize=(10,6))\n",
    "data['Highleveleducation'].value_counts().plot.bar(color=['#CD7F32','#FFDF00','#D3D3D3'])\n",
    "ax.set_title('Highleveleducation')\n",
    "ax.set_ylabel('Count')\n",
    "plt.show()"
   ]
  },
  {
   "cell_type": "code",
   "execution_count": 12,
   "metadata": {},
   "outputs": [
    {
     "data": {
      "image/png": "[encoded data removed]",
      "text/plain": [
       "<Figure size 720x432 with 1 Axes>"
      ]
     },
     "metadata": {
      "needs_background": "light"
     },
     "output_type": "display_data"
    }
   ],
   "source": [
    "f,ax=plt.subplots(1,1,figsize=(10,6))\n",
    "data['Contributionfirepolicies'].value_counts().plot.bar(color=['#CD7F32','#FFDF00','#D3D3D3'])\n",
    "ax.set_title('Contributionfirepolicies')\n",
    "ax.set_ylabel('Count')\n",
    "plt.show()"
   ]
  },
  {
   "cell_type": "code",
   "execution_count": 13,
   "metadata": {},
   "outputs": [],
   "source": [
    "features = [x for x in data.columns if x not in ['Numberofmobile']]\n",
    "target = 'Numberofmobile'"
   ]
  },
  {
   "cell_type": "code",
   "execution_count": 14,
   "metadata": {},
   "outputs": [],
   "source": [
    "X = data[features].copy()\n",
    "y = data[target]"
   ]
  },
  {
   "cell_type": "code",
   "execution_count": 15,
   "metadata": {},
   "outputs": [
    {
     "name": "stderr",
     "output_type": "stream",
     "text": [
      "/anaconda3/lib/python3.7/site-packages/sklearn/linear_model/logistic.py:433: FutureWarning: Default solver will be changed to 'lbfgs' in 0.22. Specify a solver to silence this warning.\n",
      "  FutureWarning)\n"
     ]
    },
    {
     "data": {
      "text/plain": [
       "LogisticRegression(C=1.0, class_weight=None, dual=False, fit_intercept=True,\n",
       "          intercept_scaling=1, max_iter=100, multi_class='warn',\n",
       "          n_jobs=None, penalty='l2', random_state=None, solver='warn',\n",
       "          tol=0.0001, verbose=0, warm_start=False)"
      ]
     },
     "execution_count": 15,
     "metadata": {},
     "output_type": "execute_result"
    }
   ],
   "source": [
    "from sklearn.linear_model import LogisticRegression\n",
    "lr = LogisticRegression()\n",
    "lr.fit(X,y)"
   ]
  },
  {
   "cell_type": "code",
   "execution_count": 16,
   "metadata": {},
   "outputs": [],
   "source": [
    "from sklearn import metrics"
   ]
  },
  {
   "cell_type": "code",
   "execution_count": 17,
   "metadata": {},
   "outputs": [],
   "source": [
    "predictions = lr.predict(testX)"
   ]
  },
  {
   "cell_type": "code",
   "execution_count": 18,
   "metadata": {},
   "outputs": [
    {
     "name": "stdout",
     "output_type": "stream",
     "text": [
      "accuracy_score: 0.94\n"
     ]
    }
   ],
   "source": [
    "print('accuracy_score:', metrics.accuracy_score(predictions, testY))"
   ]
  },
  {
   "cell_type": "code",
   "execution_count": 19,
   "metadata": {},
   "outputs": [
    {
     "data": {
      "text/plain": [
       "array([[3757,  235],\n",
       "       [   5,    3]])"
      ]
     },
     "execution_count": 19,
     "metadata": {},
     "output_type": "execute_result"
    }
   ],
   "source": [
    "metrics.confusion_matrix(predictions, testY)"
   ]
  },
  {
   "cell_type": "code",
   "execution_count": 20,
   "metadata": {},
   "outputs": [
    {
     "name": "stdout",
     "output_type": "stream",
     "text": [
      "    Coefficients  Standard Errors  t values  Probabilites\n",
      "0         0.0636            0.462     0.138         0.890\n",
      "1         0.0648            0.002    26.791         0.000\n",
      "2        -0.1709            0.008   -20.733         0.000\n",
      "3        -0.0396            0.008    -5.141         0.000\n",
      "4         0.2017            0.005    37.857         0.000\n",
      "5        -0.2721            0.011   -25.073         0.000\n",
      "6        -0.1211            0.006   -20.126         0.000\n",
      "7        -0.0282            0.007    -4.334         0.000\n",
      "8        -0.0172            0.006    -2.940         0.003\n",
      "9        -0.0685            0.006   -10.996         0.000\n",
      "10        0.2235            0.008    27.566         0.000\n",
      "11        0.0813            0.008    10.508         0.000\n",
      "12        0.1434            0.008    17.495         0.000\n",
      "13       -0.0643            0.007    -9.145         0.000\n",
      "14       -0.0976            0.007   -13.584         0.000\n",
      "15       -0.0560            0.007    -7.472         0.000\n",
      "16        0.0349            0.007     4.768         0.000\n",
      "17       -0.0640            0.008    -8.344         0.000\n",
      "18       -0.1741            0.008   -22.197         0.000\n",
      "19        0.0807            0.005    16.631         0.000\n",
      "20        0.0459            0.006     8.187         0.000\n",
      "21       -0.1221            0.005   -22.538         0.000\n",
      "22        0.1340            0.005    27.850         0.000\n",
      "23        0.0370            0.005     7.701         0.000\n",
      "24        0.0929            0.005    19.422         0.000\n",
      "25        0.0288            0.006     5.185         0.000\n",
      "26       -0.0076            0.005    -1.401         0.161\n",
      "27        0.0180            0.005     3.746         0.000\n",
      "28        0.0982            0.005    18.616         0.000\n",
      "29       -0.0132            0.005    -2.610         0.009\n",
      "..           ...              ...       ...           ...\n",
      "56       -0.1646            0.036    -4.573         0.000\n",
      "57        0.3255            0.085     3.820         0.000\n",
      "58        0.3555            0.028    12.882         0.000\n",
      "59        0.2279            0.004    59.093         0.000\n",
      "60        0.1052            0.155     0.681         0.496\n",
      "61        0.2208            0.029     7.635         0.000\n",
      "62        0.3340            0.059     5.657         0.000\n",
      "63       -0.3840            0.033   -11.630         0.000\n",
      "64        0.0022            0.031     0.071         0.943\n",
      "65       -0.5338            0.035   -15.349         0.000\n",
      "66        0.1729            0.057     3.039         0.002\n",
      "67       -0.0365            0.148    -0.247         0.805\n",
      "68       -0.0263            0.014    -1.921         0.055\n",
      "69       -0.1901            0.070    -2.711         0.007\n",
      "70        0.2132            0.033     6.388         0.000\n",
      "71       -0.0720            0.171    -0.422         0.673\n",
      "72       -0.2226            0.101    -2.195         0.028\n",
      "73       -0.7780            0.038   -20.472         0.000\n",
      "74       -0.2085            0.078    -2.665         0.008\n",
      "75       -0.3293            0.050    -6.557         0.000\n",
      "76        0.4502            0.017    27.210         0.000\n",
      "77       -0.0359            0.103    -0.350         0.726\n",
      "78       -0.3392            0.204    -1.663         0.096\n",
      "79       -0.5585            0.134    -4.182         0.000\n",
      "80       -0.3917            0.012   -31.420         0.000\n",
      "81        0.2540            0.302     0.840         0.401\n",
      "82        1.1866            0.095    12.478         0.000\n",
      "83        0.2316            0.044     5.276         0.000\n",
      "84        0.6208            0.075     8.268         0.000\n",
      "85        0.4688            0.106     4.436         0.000\n",
      "\n",
      "[86 rows x 4 columns]\n"
     ]
    },
    {
     "name": "stderr",
     "output_type": "stream",
     "text": [
      "/anaconda3/lib/python3.7/site-packages/sklearn/linear_model/logistic.py:433: FutureWarning: Default solver will be changed to 'lbfgs' in 0.22. Specify a solver to silence this warning.\n",
      "  FutureWarning)\n"
     ]
    }
   ],
   "source": [
    "import statsmodels.api as sm\n",
    "from scipy import stats\n",
    "\n",
    "lr_model = LogisticRegression()\n",
    "lr_model.fit(X,y)\n",
    "params = np.append(lr_model.intercept_,lr_model.coef_)\n",
    "predictions = lr_model.predict(X)\n",
    "\n",
    "newX = pd.DataFrame({\"Constant\":np.ones(len(X))}).join(pd.DataFrame(X))\n",
    "MSE = (sum((y-predictions)**2))/(len(newX)-len(newX.columns))\n",
    "\n",
    "# Note if you don't want to use a DataFrame replace the two lines above with\n",
    "# newX = np.append(np.ones((len(X),1)), X, axis=1)\n",
    "# MSE = (sum((y-predictions)**2))/(len(newX)-len(newX[0]))\n",
    "\n",
    "var_b = MSE*(np.linalg.inv(np.dot(newX.T,newX)).diagonal())\n",
    "sd_b = np.sqrt(var_b)\n",
    "ts_b = params/ sd_b\n",
    "\n",
    "p_values =[2*(1-stats.t.cdf(np.abs(i),(len(newX)-1))) for i in ts_b]\n",
    "\n",
    "sd_b = np.round(sd_b,3)\n",
    "ts_b = np.round(ts_b,3)\n",
    "p_values = np.round(p_values,3)\n",
    "params = np.round(params,4)\n",
    "\n",
    "myDF3 = pd.DataFrame()\n",
    "myDF3[\"Coefficients\"],myDF3[\"Standard Errors\"],myDF3[\"t values\"],myDF3[\"Probabilites\"] = [params,sd_b,ts_b,p_values]\n",
    "print(myDF3)"
   ]
  },
  {
   "cell_type": "code",
   "execution_count": 21,
   "metadata": {},
   "outputs": [
    {
     "data": {
      "image/png": "[encoded data removed]",
      "text/plain": [
       "<Figure size 720x432 with 1 Axes>"
      ]
     },
     "metadata": {
      "needs_background": "light"
     },
     "output_type": "display_data"
    }
   ],
   "source": [
    "f,ax=plt.subplots(1,1,figsize=(10,6))\n",
    "data[['Contributionfirepolicies','Numberofmobile']].groupby(['Contributionfirepolicies']).mean().plot.bar(ax=ax)\n",
    "ax.set_title('Contributionfirepolicies-Numberofmobile')\n",
    "plt.show()"
   ]
  },
  {
   "cell_type": "code",
   "execution_count": 22,
   "metadata": {},
   "outputs": [
    {
     "data": {
      "image/png": "[encoded data removed]",
      "text/plain": [
       "<Figure size 720x432 with 1 Axes>"
      ]
     },
     "metadata": {
      "needs_background": "light"
     },
     "output_type": "display_data"
    }
   ],
   "source": [
    "f,ax=plt.subplots(1,1,figsize=(10,6))\n",
    "data[['Numberofboat','Numberofmobile']].groupby(['Numberofboat']).mean().plot.bar(ax=ax)\n",
    "ax.set_title('Numberofboat-Numberofmobile')\n",
    "plt.show()"
   ]
  },
  {
   "cell_type": "code",
   "execution_count": 23,
   "metadata": {},
   "outputs": [
    {
     "data": {
      "image/png": "[encoded data removed]",
      "text/plain": [
       "<Figure size 1296x432 with 2 Axes>"
      ]
     },
     "metadata": {
      "needs_background": "light"
     },
     "output_type": "display_data"
    }
   ],
   "source": [
    "f,ax=plt.subplots(1,2,figsize=(18,6))\n",
    "data[['Contributiontractorpolicies',\n",
    "      'Numberofmobile']].groupby(['Contributiontractorpolicies']).mean().plot.bar(ax=ax[0])\n",
    "ax[0].set_title('Contributiontractorpolicies-Numberofmobile')\n",
    "data[['Contributioncarpolicies',\n",
    "      'Numberofmobile']].groupby(['Contributioncarpolicies']).mean().plot.bar(ax=ax[1])\n",
    "ax[1].set_title('Contributioncarpolicies-Numberofmobile')\n",
    "plt.show()"
   ]
  },
  {
   "cell_type": "code",
   "execution_count": null,
   "metadata": {},
   "outputs": [],
   "source": []
  }
 ],
 "metadata": {
  "kernelspec": {
   "display_name": "Python 3",
   "language": "python",
   "name": "python3"
  },
  "language_info": {
   "codemirror_mode": {
    "name": "ipython",
    "version": 3
   },
   "file_extension": ".py",
   "mimetype": "text/x-python",
   "name": "python",
   "nbconvert_exporter": "python",
   "pygments_lexer": "ipython3",
   "version": "3.7.3"
  }
 },
 "nbformat": 4,
 "nbformat_minor": 2
}

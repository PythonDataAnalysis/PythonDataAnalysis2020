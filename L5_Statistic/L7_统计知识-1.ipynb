{
 "cells": [
  {
   "cell_type": "markdown",
   "metadata": {},
   "source": [
    "# 1 概率分布\n",
    "## 离散的概率分布\n",
    "## 1.1 伯努利分布：0-1分布"
   ]
  },
  {
   "cell_type": "code",
   "execution_count": 1,
   "metadata": {},
   "outputs": [],
   "source": [
    "#导入包\n",
    "import numpy as np #数组包\n",
    "from scipy import stats #统计计算包的统计模块\n",
    "import matplotlib.pyplot as plt #绘图包\n",
    "import matplotlib\n",
    "from pylab import *\n",
    "matplotlib.rcParams['font.sans-serif'] = ['SimHei']\n",
    "plt.rcParams['axes.unicode_minus'] = False \n",
    "%matplotlib inline"
   ]
  },
  {
   "cell_type": "code",
   "execution_count": 2,
   "metadata": {},
   "outputs": [
    {
     "data": {
      "text/plain": [
       "array([0, 1])"
      ]
     },
     "execution_count": 2,
     "metadata": {},
     "output_type": "execute_result"
    }
   ],
   "source": [
    "#1、定义随机变量：抛一次硬币，0代表失败即反面朝上；1代表成功即正面朝上\n",
    "#（随机变量通常用大写字母表示）\n",
    "X=np.arange(0,2,1)\n",
    "X"
   ]
  },
  {
   "cell_type": "code",
   "execution_count": 3,
   "metadata": {},
   "outputs": [
    {
     "data": {
      "text/plain": [
       "array([0.5, 0.5])"
      ]
     },
     "execution_count": 3,
     "metadata": {},
     "output_type": "execute_result"
    }
   ],
   "source": [
    "#2、求对应分布的概率：\n",
    "p=0.5 #硬币朝上的概率\n",
    "pList=stats.bernoulli.pmf(X,p)\n",
    "pList"
   ]
  },
  {
   "cell_type": "code",
   "execution_count": 4,
   "metadata": {},
   "outputs": [
    {
     "data": {
      "text/plain": [
       "Text(0.5, 1.0, '伯努利分布：p=0.50')"
      ]
     },
     "execution_count": 4,
     "metadata": {},
     "output_type": "execute_result"
    },
    {
     "data": {
      "image/png": "[encoded data removed]",
      "text/plain": [
       "<Figure size 432x288 with 1 Axes>"
      ]
     },
     "metadata": {
      "needs_background": "light"
     },
     "output_type": "display_data"
    }
   ],
   "source": [
    "#3、绘图\n",
    "plt.plot(X,pList,linestyle='None',marker='o') \n",
    "plt.vlines(X,0,pList) \n",
    "plt.xlabel('随机变量：抛1次硬币结果为反面记为0，为正面记为1')\n",
    "plt.ylabel('概率值')\n",
    "plt.title('伯努利分布：p=%0.2f'%p)"
   ]
  },
  {
   "cell_type": "markdown",
   "metadata": {},
   "source": [
    "## 1.2 二项分布 "
   ]
  },
  {
   "cell_type": "code",
   "execution_count": 5,
   "metadata": {},
   "outputs": [
    {
     "data": {
      "text/plain": [
       "array([0, 1, 2, 3, 4, 5])"
      ]
     },
     "execution_count": 5,
     "metadata": {},
     "output_type": "execute_result"
    }
   ],
   "source": [
    "#1、定义随机变量：抛5次硬币，正面朝上的次数\n",
    "n=5 #做某件事的次数\n",
    "p=0.5 #做成功某件事的概率\n",
    "X=np.arange(0,n+1,1)\n",
    "X"
   ]
  },
  {
   "cell_type": "code",
   "execution_count": 6,
   "metadata": {},
   "outputs": [
    {
     "data": {
      "text/plain": [
       "array([0.03125, 0.15625, 0.3125 , 0.3125 , 0.15625, 0.03125])"
      ]
     },
     "execution_count": 6,
     "metadata": {},
     "output_type": "execute_result"
    }
   ],
   "source": [
    "#2、求对应分布的概率\n",
    "pList=stats.binom.pmf(X,n,p) #参数含义为：pmf(k次成功,共n次实验,单次实验成功概率为p)\n",
    "pList"
   ]
  },
  {
   "cell_type": "code",
   "execution_count": 7,
   "metadata": {},
   "outputs": [
    {
     "data": {
      "text/plain": [
       "Text(0.5, 1.0, '二项分布：n=5,p=0.50')"
      ]
     },
     "execution_count": 7,
     "metadata": {},
     "output_type": "execute_result"
    },
    {
     "data": {
      "image/png": "[encoded data removed]",
      "text/plain": [
       "<Figure size 432x288 with 1 Axes>"
      ]
     },
     "metadata": {
      "needs_background": "light"
     },
     "output_type": "display_data"
    }
   ],
   "source": [
    "#3、绘图\n",
    "plt.plot(X,pList,linestyle='None',marker='o')\n",
    "plt.vlines(X,0,pList)\n",
    "plt.xlabel('随机变量：抛5次硬币，正面朝上的次数')\n",
    "plt.ylabel('概率值')\n",
    "plt.title('二项分布：n=%i,p=%0.2f'%(n,p))"
   ]
  },
  {
   "cell_type": "markdown",
   "metadata": {},
   "source": [
    "## 1.3 几何分布"
   ]
  },
  {
   "cell_type": "code",
   "execution_count": 8,
   "metadata": {},
   "outputs": [
    {
     "data": {
      "text/plain": [
       "array([1, 2, 3, 4, 5])"
      ]
     },
     "execution_count": 8,
     "metadata": {},
     "output_type": "execute_result"
    }
   ],
   "source": [
    "#1、定义随机变量：首次成功所需次数k\n",
    "k=5 #做某件事的次数\n",
    "p=0.6 #做成功某件事的概率\n",
    "X=np.arange(1,k+1,1)\n",
    "X"
   ]
  },
  {
   "cell_type": "code",
   "execution_count": 9,
   "metadata": {},
   "outputs": [
    {
     "data": {
      "text/plain": [
       "array([0.6    , 0.24   , 0.096  , 0.0384 , 0.01536])"
      ]
     },
     "execution_count": 9,
     "metadata": {},
     "output_type": "execute_result"
    }
   ],
   "source": [
    "#2、求对应分布的概率\n",
    "pList=stats.geom.pmf(X,p) #参数含义为：pmf(第X次成功,单次实验成功概率为p)\n",
    "pList"
   ]
  },
  {
   "cell_type": "code",
   "execution_count": 10,
   "metadata": {},
   "outputs": [
    {
     "data": {
      "text/plain": [
       "Text(0.5, 1.0, '几何分布：p=0.60')"
      ]
     },
     "execution_count": 10,
     "metadata": {},
     "output_type": "execute_result"
    },
    {
     "data": {
      "image/png": "[encoded data removed]",
      "text/plain": [
       "<Figure size 432x288 with 1 Axes>"
      ]
     },
     "metadata": {
      "needs_background": "light"
     },
     "output_type": "display_data"
    }
   ],
   "source": [
    "#3、绘图\n",
    "plt.plot(X,pList,linestyle='None',marker='o')\n",
    "plt.vlines(X,0,pList)\n",
    "plt.xlabel('随机变量：实验k次才首次成功')\n",
    "plt.ylabel('概率值')\n",
    "plt.title('几何分布：p=%0.2f'%p)"
   ]
  },
  {
   "cell_type": "markdown",
   "metadata": {},
   "source": [
    "## 1.4 泊松分布"
   ]
  },
  {
   "cell_type": "code",
   "execution_count": 11,
   "metadata": {},
   "outputs": [
    {
     "data": {
      "text/plain": [
       "array([0, 1, 2, 3, 4])"
      ]
     },
     "execution_count": 11,
     "metadata": {},
     "output_type": "execute_result"
    }
   ],
   "source": [
    "#1、定义随机变量：已知某路口平均每天发生事故两次，则该路口一天内发生k起事故的概率是多少？\n",
    "mu=2 #平均值：每天平均发生2起事故\n",
    "k=4 #该路口发生4起事故的概率\n",
    "X=np.arange(0,k+1,1)\n",
    "X"
   ]
  },
  {
   "cell_type": "code",
   "execution_count": 12,
   "metadata": {},
   "outputs": [
    {
     "data": {
      "text/plain": [
       "array([0.13533528, 0.27067057, 0.27067057, 0.18044704, 0.09022352])"
      ]
     },
     "execution_count": 12,
     "metadata": {},
     "output_type": "execute_result"
    }
   ],
   "source": [
    "#2、求对应分布的概率\n",
    "pList=stats.poisson.pmf(X,mu) #参数含义为：pmf(发生X次事件,平均发生mu次)\n",
    "pList"
   ]
  },
  {
   "cell_type": "code",
   "execution_count": 13,
   "metadata": {},
   "outputs": [
    {
     "data": {
      "text/plain": [
       "Text(0.5, 1.0, '泊松分布：平均值mu=2')"
      ]
     },
     "execution_count": 13,
     "metadata": {},
     "output_type": "execute_result"
    },
    {
     "data": {
      "image/png": "[encoded data removed]",
      "text/plain": [
       "<Figure size 432x288 with 1 Axes>"
      ]
     },
     "metadata": {
      "needs_background": "light"
     },
     "output_type": "display_data"
    }
   ],
   "source": [
    "#3、绘图\n",
    "plt.plot(X,pList,linestyle='None',marker='o')\n",
    "plt.vlines(X,0,pList)\n",
    "plt.xlabel('随机变量：该路口发生事故的次数')\n",
    "plt.ylabel('概率值')\n",
    "plt.title('泊松分布：平均值mu=%i'%mu)"
   ]
  },
  {
   "cell_type": "markdown",
   "metadata": {},
   "source": [
    "## 连续的概率分布\n",
    "## 1.5 正态分布"
   ]
  },
  {
   "cell_type": "code",
   "execution_count": 14,
   "metadata": {},
   "outputs": [
    {
     "data": {
      "text/plain": [
       "Text(0.5, 1.0, '正态分布：$\\\\mu$=0.0，$\\\\sigma^2$=1.0')"
      ]
     },
     "execution_count": 14,
     "metadata": {},
     "output_type": "execute_result"
    },
    {
     "data": {
      "image/png": "[encoded data removed]",
      "text/plain": [
       "<Figure size 432x288 with 1 Axes>"
      ]
     },
     "metadata": {
      "needs_background": "light"
     },
     "output_type": "display_data"
    }
   ],
   "source": [
    "#1、定义随机变量\n",
    "mu=0 #平均值\n",
    "sigma=1 #标准差\n",
    "X=np.arange(-5,5,0.1)\n",
    "#2、求对应分布的概率\n",
    "pList=stats.norm.pdf(X,mu,sigma) #参数含义为：pdf(发生X次事件,均值为mu,方差为sigma)\n",
    "#3、绘图\n",
    "plt.plot(X,pList,linestyle='-')\n",
    "plt.xlabel('随机变量：x')\n",
    "plt.ylabel('概率值：y')\n",
    "plt.title('正态分布：$\\mu$=%0.1f，$\\sigma^2$=%0.1f'%(mu,sigma))"
   ]
  },
  {
   "cell_type": "markdown",
   "metadata": {},
   "source": [
    "## 1.6 t分布 "
   ]
  },
  {
   "cell_type": "code",
   "execution_count": 15,
   "metadata": {},
   "outputs": [
    {
     "name": "stdout",
     "output_type": "stream",
     "text": [
      "比较t-分布与标准正态分布\n"
     ]
    },
    {
     "data": {
      "image/png": "[encoded data removed]",
      "text/plain": [
       "<Figure size 432x288 with 1 Axes>"
      ]
     },
     "metadata": {
      "needs_background": "light"
     },
     "output_type": "display_data"
    }
   ],
   "source": [
    "import numpy as np\n",
    "from scipy.stats import norm\n",
    "from scipy.stats import t\n",
    "print('比较t-分布与标准正态分布')\n",
    "x = np.linspace( -3, 3, 100)\n",
    "plt.plot(x, t.pdf(x,1), label='df=1')\n",
    "plt.plot(x, t.pdf(x,2), label='df=20')\n",
    "plt.plot(x, t.pdf(x,100), label = 'df=100')\n",
    "plt.plot( x[::5], norm.pdf(x[::5]),'kx', label='normal')\n",
    "plt.legend()\n",
    "plt.show()"
   ]
  },
  {
   "cell_type": "markdown",
   "metadata": {},
   "source": [
    "# 2 正态性检验\n",
    "## 2.1  Shapiro-Wilk test\n",
    "## 原假设：样本数据与正态分布没有显著区别。\n",
    "## 备择假设：样本数据与正态分布存在显著区别。\n",
    "## 当p_value小于显著性水平α时，拒绝原假设。（α常见为0.05）"
   ]
  },
  {
   "cell_type": "code",
   "execution_count": 16,
   "metadata": {},
   "outputs": [
    {
     "name": "stdout",
     "output_type": "stream",
     "text": [
      "stat为：0.913007 p值为：0.302289\n"
     ]
    }
   ],
   "source": [
    "from scipy.stats import shapiro\n",
    "data = [21,12,12,23,19,13,20,17,14,19]\n",
    "stat,p = shapiro(data)\n",
    "print(\"stat为：%f\" %stat,\"p值为：%f\" %p)"
   ]
  },
  {
   "cell_type": "markdown",
   "metadata": {},
   "source": [
    "# 2.2 scipy.stats.normaltest"
   ]
  },
  {
   "cell_type": "code",
   "execution_count": 19,
   "metadata": {},
   "outputs": [
    {
     "name": "stdout",
     "output_type": "stream",
     "text": [
      "p值为：0.331461\n"
     ]
    }
   ],
   "source": [
    "from scipy.stats import normaltest\n",
    "data = [21,12,12,23,19,13,20,17,14,19]\n",
    "k2,p = normaltest(data)\n",
    "print(\"p值为：%f\" %p)"
   ]
  },
  {
   "cell_type": "markdown",
   "metadata": {},
   "source": [
    "# 3 相关性检验\n",
    "## 3.1 皮尔逊相关系数\n",
    "## 检验两个样本是否具有单调关系\n",
    "## 假设：\n",
    "* 每个样本中的观察是独立同分布的\n",
    "* 每个样本的观察都是正态分布的\n",
    "* 每个样本的观察具有相同的方差"
   ]
  },
  {
   "cell_type": "code",
   "execution_count": 20,
   "metadata": {},
   "outputs": [
    {
     "name": "stdout",
     "output_type": "stream",
     "text": [
      "corr为：0.142814 p值为：0.693889\n"
     ]
    }
   ],
   "source": [
    "from scipy.stats import pearsonr\n",
    "data1 = [21,12,12,23,19,13,20,17,14,19]\n",
    "data2 = [12,11,8,9,10,15,16,17,10,16]\n",
    "corr,p = pearsonr(data1,data2)\n",
    "print(\"corr为：%f\" %corr,\"p值为：%f\" %p)"
   ]
  },
  {
   "cell_type": "markdown",
   "metadata": {},
   "source": [
    "##  通常情况下通过以下取值范围判断变量的相关强度：\n",
    "## 相关系数corr（均取绝对值后）\n",
    "- 0.8-1.0 极强相关\n",
    "- 0.6-0.8 强相关\n",
    "- 0.4-0.6 中等程度相关\n",
    "- 0.2-0.4 弱相关\n",
    "- 0.0-0.2 极弱相关或无相关\n",
    "\n",
    "## 原假设：两变量之间不存在线性关联\n",
    "## 备择假设：两变量之间存在线性关联\n",
    "## 当p_value大于显著性水平α时，接受原假设。"
   ]
  },
  {
   "cell_type": "markdown",
   "metadata": {},
   "source": [
    "## 3.2 卡方检验\n",
    "## 检验两个分类变量是相关的还是独立的\n",
    "## 假设：\n",
    "* 用于计算列联表的观察是独立的"
   ]
  },
  {
   "cell_type": "code",
   "execution_count": 21,
   "metadata": {},
   "outputs": [
    {
     "data": {
      "text/plain": [
       "Power_divergenceResult(statistic=0.74, pvalue=0.980701472519648)"
      ]
     },
     "execution_count": 21,
     "metadata": {},
     "output_type": "execute_result"
    }
   ],
   "source": [
    "from scipy import stats\n",
    "obs = [102, 102, 96, 105, 95, 100]\n",
    "exp = [100, 100, 100, 100, 100, 100]\n",
    "stats.chisquare(obs, f_exp = exp)"
   ]
  },
  {
   "cell_type": "markdown",
   "metadata": {},
   "source": [
    "## 从结果来看，p 值为0.98，可以认为观测到的值和预期值是相近即“合适”的。"
   ]
  }
 ],
 "metadata": {
  "kernelspec": {
   "display_name": "Python [conda env:tensorflow]",
   "language": "python",
   "name": "conda-env-tensorflow-py"
  },
  "language_info": {
   "codemirror_mode": {
    "name": "ipython",
    "version": 3
   },
   "file_extension": ".py",
   "mimetype": "text/x-python",
   "name": "python",
   "nbconvert_exporter": "python",
   "pygments_lexer": "ipython3",
   "version": "3.7.4"
  }
 },
 "nbformat": 4,
 "nbformat_minor": 2
}

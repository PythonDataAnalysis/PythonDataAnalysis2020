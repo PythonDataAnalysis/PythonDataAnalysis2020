{
 "cells": [
  {
   "cell_type": "markdown",
   "metadata": {},
   "source": [
    "# 4 假设检验与区间估计\n",
    "## 4.1 单样本检验：以汽车引擎排放水平测试为例"
   ]
  },
  {
   "cell_type": "code",
   "execution_count": 1,
   "metadata": {},
   "outputs": [],
   "source": [
    "#导入包\n",
    "import pandas as pd\n",
    "import numpy as np\n",
    "import seaborn as sns\n",
    "import matplotlib.pyplot as plt"
   ]
  },
  {
   "cell_type": "code",
   "execution_count": 2,
   "metadata": {},
   "outputs": [
    {
     "name": "stdout",
     "output_type": "stream",
     "text": [
      "样本均值为：17.17ppm\n",
      "样本标准差为：2.98ppm\n"
     ]
    }
   ],
   "source": [
    "#样本数据集\n",
    "dataSer=pd.Series([15.6,16.2,22.5,20.5,16.4 ,\n",
    "                   19.4,16.6,17.9,12.7,13.9])\n",
    "#计算样本均值、样本标准差\n",
    "sample_mean=dataSer.mean()\n",
    "sample_std=dataSer.std()\n",
    "print('样本均值为：%.2fppm'%sample_mean)\n",
    "print('样本标准差为：%.2fppm'%sample_std)"
   ]
  },
  {
   "cell_type": "code",
   "execution_count": 4,
   "metadata": {},
   "outputs": [
    {
     "data": {
      "text/plain": [
       "<matplotlib.axes._subplots.AxesSubplot at 0x1a23f24898>"
      ]
     },
     "execution_count": 4,
     "metadata": {},
     "output_type": "execute_result"
    },
    {
     "data": {
      "image/png": "[encoded data removed]",
      "text/plain": [
       "<Figure size 432x288 with 1 Axes>"
      ]
     },
     "metadata": {
      "needs_background": "light"
     },
     "output_type": "display_data"
    }
   ],
   "source": [
    "#通过直方图查看数据分布，还可做出拟合曲线\n",
    "sns.distplot(dataSer)"
   ]
  },
  {
   "cell_type": "code",
   "execution_count": 5,
   "metadata": {},
   "outputs": [
    {
     "name": "stdout",
     "output_type": "stream",
     "text": [
      "标准误差为0.94\n",
      "t=-3.002\n"
     ]
    }
   ],
   "source": [
    "#1. 计算标准误差\n",
    "n=10\n",
    "SE=sample_std/(np.sqrt(n))\n",
    "#2. 计算t值\n",
    "pop_mean=20\n",
    "t=(sample_mean-pop_mean)/SE\n",
    "print('标准误差为%.2f'%SE)\n",
    "print('t=%.3f'%t)"
   ]
  },
  {
   "cell_type": "code",
   "execution_count": 6,
   "metadata": {},
   "outputs": [
    {
     "name": "stdout",
     "output_type": "stream",
     "text": [
      "假设检验t值为-3.002，相应的概率p值为0.0075\n"
     ]
    }
   ],
   "source": [
    "from scipy import stats\n",
    "t,p_twotail=stats.ttest_1samp(dataSer,pop_mean)\n",
    "p_onetail=p_twotail/2\n",
    "print('假设检验t值为%.3f，相应的概率p值为%.4f'%(t,p_onetail))"
   ]
  },
  {
   "cell_type": "code",
   "execution_count": 13,
   "metadata": {},
   "outputs": [
    {
     "name": "stdout",
     "output_type": "stream",
     "text": [
      "单个平均值的置信区间，95置信水平CI=[15.037,19.303]\n"
     ]
    }
   ],
   "source": [
    "#计算置信区间：\n",
    "#按照df=9,置信水平为95%查表得t值（此处应为双尾）\n",
    "t_ci=2.2622\n",
    "SE=stats.sem(dataSer)  #scipy计算标准误差\n",
    "#置信区间上下限\n",
    "a=sample_mean-t_ci*SE\n",
    "b=sample_mean+t_ci*SE\n",
    "print('单个平均值的置信区间，95置信水平CI=[%.3f,%.3f]'%(a,b))"
   ]
  },
  {
   "cell_type": "code",
   "execution_count": 8,
   "metadata": {},
   "outputs": [
    {
     "name": "stdout",
     "output_type": "stream",
     "text": [
      "d=-0.95\n",
      "R2=0.50\n"
     ]
    }
   ],
   "source": [
    "#均值比较值：Cohen's d\n",
    "d=(sample_mean-pop_mean)/sample_std\n",
    "#R平方\n",
    "df=n-1\n",
    "R2=(t*t)/(t*t+df)\n",
    "print('d=%.2F'%d)\n",
    "print('R2=%.2F'%R2)"
   ]
  },
  {
   "cell_type": "markdown",
   "metadata": {},
   "source": [
    "## 4.2 双样本检验 "
   ]
  },
  {
   "cell_type": "code",
   "execution_count": 9,
   "metadata": {},
   "outputs": [],
   "source": [
    "import pandas as pd\n",
    "import numpy as np\n",
    "\n",
    "aSer = pd.Series([20.5,19.8,19.7,20.4,20.1,20.0,19.0,19.9])\n",
    "bSer = pd.Series([19.7,20.8,20.5,19.8,19.4,20.6,19.2])"
   ]
  },
  {
   "cell_type": "code",
   "execution_count": 10,
   "metadata": {},
   "outputs": [
    {
     "name": "stdout",
     "output_type": "stream",
     "text": [
      "甲机床加工的产品直径= 19.925 单位：mm\n",
      "乙机床加工的产品直径= 19.999999999999996 单位：mm\n",
      "甲机床加工的产品直径标准差= 0.4652188425123937 单位：mm\n",
      "乙机床加工的产品直径标准差= 0.6298147875897069 单位：mm\n"
     ]
    }
   ],
   "source": [
    "a_mean = aSer.mean()\n",
    "b_mean = bSer.mean()\n",
    "print('甲机床加工的产品直径=',a_mean,'单位：mm')\n",
    "print('乙机床加工的产品直径=',b_mean,'单位：mm')\n",
    "a_std = aSer.std()\n",
    "b_std = bSer.std()\n",
    "print('甲机床加工的产品直径标准差=',a_std,'单位：mm')\n",
    "print('乙机床加工的产品直径标准差=',b_std,'单位：mm')"
   ]
  },
  {
   "cell_type": "code",
   "execution_count": 11,
   "metadata": {},
   "outputs": [
    {
     "name": "stdout",
     "output_type": "stream",
     "text": [
      "t= -0.2592065883746012 p_two= 0.8002815375230089 df= 10.956106306156496\n"
     ]
    }
   ],
   "source": [
    "import statsmodels.stats.weightstats as st\n",
    "t,p_two,df = st.ttest_ind(aSer,bSer,usevar='unequal')\n",
    "print('t=',t,'p_two=',p_two,'df=',df)"
   ]
  },
  {
   "cell_type": "code",
   "execution_count": 12,
   "metadata": {},
   "outputs": [],
   "source": [
    "t_ci = 2.2010\n",
    "a_n = len(aSer)\n",
    "b_n = len(bSer)\n",
    "se = np.sqrt(np.square(a_std)/a_n + np.square(b_std)/b_n)"
   ]
  },
  {
   "cell_type": "code",
   "execution_count": 14,
   "metadata": {},
   "outputs": [
    {
     "name": "stdout",
     "output_type": "stream",
     "text": [
      "95置信水平下，两个平均值差值的置信区间 CI=(-0.729555,0.579555)\n"
     ]
    }
   ],
   "source": [
    "sample_mean = a_mean - b_mean\n",
    "a = sample_mean - t_ci * se\n",
    "b = sample_mean + t_ci * se\n",
    "print('95置信水平下，两个平均值差值的置信区间 CI=(%f,%f)'%(a,b))"
   ]
  },
  {
   "cell_type": "code",
   "execution_count": null,
   "metadata": {},
   "outputs": [],
   "source": []
  }
 ],
 "metadata": {
  "kernelspec": {
   "display_name": "Python 3",
   "language": "python",
   "name": "python3"
  },
  "language_info": {
   "codemirror_mode": {
    "name": "ipython",
    "version": 3
   },
   "file_extension": ".py",
   "mimetype": "text/x-python",
   "name": "python",
   "nbconvert_exporter": "python",
   "pygments_lexer": "ipython3",
   "version": "3.7.3"
  }
 },
 "nbformat": 4,
 "nbformat_minor": 2
}

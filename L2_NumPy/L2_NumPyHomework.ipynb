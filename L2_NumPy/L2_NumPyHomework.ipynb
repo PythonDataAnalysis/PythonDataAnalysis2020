{
 "cells": [
  {
   "cell_type": "code",
   "execution_count": 1,
   "metadata": {},
   "outputs": [],
   "source": [
    "import numpy as np"
   ]
  },
  {
   "attachments": {},
   "cell_type": "markdown",
   "metadata": {},
   "source": [
    "# 1.创建一个一维数组，其中包含1~20的奇数；再使用数组的维度变换方法，改变原数组形状为[2,5]。"
   ]
  },
  {
   "cell_type": "code",
   "execution_count": 2,
   "metadata": {},
   "outputs": [
    {
     "data": {
      "text/plain": [
       "array([ 1,  3,  5,  7,  9, 11, 13, 15, 17, 19])"
      ]
     },
     "execution_count": 2,
     "metadata": {},
     "output_type": "execute_result"
    }
   ],
   "source": [
    "a = np.arange(1,20,2)\n",
    "a"
   ]
  },
  {
   "cell_type": "code",
   "execution_count": 3,
   "metadata": {},
   "outputs": [
    {
     "data": {
      "text/plain": [
       "array([[ 1,  3,  5,  7,  9],\n",
       "       [11, 13, 15, 17, 19]])"
      ]
     },
     "execution_count": 3,
     "metadata": {},
     "output_type": "execute_result"
    }
   ],
   "source": [
    "a.resize(2,5)\n",
    "a"
   ]
  },
  {
   "attachments": {},
   "cell_type": "markdown",
   "metadata": {},
   "source": [
    "# 2.打印消息“The first three items in the list are:”，再使用切片来打印列表的前三个元素。"
   ]
  },
  {
   "cell_type": "code",
   "execution_count": 4,
   "metadata": {},
   "outputs": [
    {
     "name": "stdout",
     "output_type": "stream",
     "text": [
      "The first three items in the list are:\n"
     ]
    }
   ],
   "source": [
    "b = \"The first three items in the list are:\"\n",
    "print(b)"
   ]
  },
  {
   "cell_type": "code",
   "execution_count": 5,
   "metadata": {},
   "outputs": [
    {
     "name": "stdout",
     "output_type": "stream",
     "text": [
      "The\n"
     ]
    }
   ],
   "source": [
    "print(b[:3])"
   ]
  },
  {
   "attachments": {},
   "cell_type": "markdown",
   "metadata": {},
   "source": [
    "# 3.创建一个行值是从0到4的5*5矩阵。"
   ]
  },
  {
   "cell_type": "code",
   "execution_count": 6,
   "metadata": {},
   "outputs": [
    {
     "name": "stdout",
     "output_type": "stream",
     "text": [
      "[[0. 1. 2. 3. 4.]\n",
      " [0. 1. 2. 3. 4.]\n",
      " [0. 1. 2. 3. 4.]\n",
      " [0. 1. 2. 3. 4.]\n",
      " [0. 1. 2. 3. 4.]]\n"
     ]
    }
   ],
   "source": [
    "c = np.zeros((5,5))\n",
    "c += np.arange(5)\n",
    "print(c)"
   ]
  },
  {
   "attachments": {},
   "cell_type": "markdown",
   "metadata": {},
   "source": [
    "# 4.创建一个对角线（diagonal）下面是1,2,3,4的5*5矩阵。"
   ]
  },
  {
   "cell_type": "code",
   "execution_count": 7,
   "metadata": {},
   "outputs": [
    {
     "name": "stdout",
     "output_type": "stream",
     "text": [
      "[[0 0 0 0 0]\n",
      " [1 0 0 0 0]\n",
      " [0 2 0 0 0]\n",
      " [0 0 3 0 0]\n",
      " [0 0 0 4 0]]\n"
     ]
    }
   ],
   "source": [
    "d = np.diag(1+np.arange(4),k=-1)\n",
    "print(d)"
   ]
  },
  {
   "attachments": {},
   "cell_type": "markdown",
   "metadata": {},
   "source": [
    "# 5.创建一个10*10的随机数组并查找最大最小值。"
   ]
  },
  {
   "cell_type": "code",
   "execution_count": 8,
   "metadata": {},
   "outputs": [
    {
     "data": {
      "text/plain": [
       "array([[0.64000226, 0.32893049, 0.57469507, 0.7191154 , 0.84100055,\n",
       "        0.10414892, 0.70004419, 0.08924108, 0.04453418, 0.53140052],\n",
       "       [0.12709132, 0.49618423, 0.80665231, 0.50480773, 0.0342399 ,\n",
       "        0.08028302, 0.60867626, 0.55677295, 0.81186437, 0.58190838],\n",
       "       [0.83437017, 0.04118441, 0.75503501, 0.7560931 , 0.12077955,\n",
       "        0.34110712, 0.83471468, 0.07324817, 0.27553888, 0.09529068],\n",
       "       [0.34515205, 0.05110367, 0.83686197, 0.13534996, 0.30298594,\n",
       "        0.5517438 , 0.84727915, 0.91152951, 0.59529865, 0.14509532],\n",
       "       [0.25254879, 0.10653083, 0.07212028, 0.52230379, 0.87915047,\n",
       "        0.8033173 , 0.53224277, 0.71876382, 0.46924102, 0.33132685],\n",
       "       [0.39818848, 0.80458679, 0.72373638, 0.72545203, 0.45828573,\n",
       "        0.47545804, 0.25960666, 0.52620389, 0.00294236, 0.73452085],\n",
       "       [0.9822478 , 0.18000302, 0.19843541, 0.96849403, 0.41981219,\n",
       "        0.89529263, 0.91658614, 0.12578417, 0.19256023, 0.63502111],\n",
       "       [0.7893636 , 0.99558114, 0.48028386, 0.70395868, 0.41169234,\n",
       "        0.28580059, 0.90866839, 0.70343419, 0.54291595, 0.10288589],\n",
       "       [0.75355288, 0.42193141, 0.2049329 , 0.89190012, 0.25617088,\n",
       "        0.32268193, 0.23785768, 0.07914491, 0.35419502, 0.0406824 ],\n",
       "       [0.75507288, 0.41271817, 0.93982056, 0.86428515, 0.56683183,\n",
       "        0.76186623, 0.08649792, 0.62263635, 0.76476796, 0.50241476]])"
      ]
     },
     "execution_count": 8,
     "metadata": {},
     "output_type": "execute_result"
    }
   ],
   "source": [
    "E = np.random.random((10,10))\n",
    "E"
   ]
  },
  {
   "cell_type": "code",
   "execution_count": 9,
   "metadata": {},
   "outputs": [
    {
     "name": "stdout",
     "output_type": "stream",
     "text": [
      "0.0029423555303053073 0.9955811435606219\n"
     ]
    }
   ],
   "source": [
    "Emin, Emax = E.min(), E.max()\n",
    "print (Emin, Emax)"
   ]
  },
  {
   "cell_type": "code",
   "execution_count": null,
   "metadata": {},
   "outputs": [],
   "source": []
  }
 ],
 "metadata": {
  "kernelspec": {
   "display_name": "Python 3",
   "language": "python",
   "name": "python3"
  },
  "language_info": {
   "codemirror_mode": {
    "name": "ipython",
    "version": 3
   },
   "file_extension": ".py",
   "mimetype": "text/x-python",
   "name": "python",
   "nbconvert_exporter": "python",
   "pygments_lexer": "ipython3",
   "version": "3.7.3"
  }
 },
 "nbformat": 4,
 "nbformat_minor": 2
}

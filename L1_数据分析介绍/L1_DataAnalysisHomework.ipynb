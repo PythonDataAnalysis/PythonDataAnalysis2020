{
 "cells": [
  {
   "cell_type": "markdown",
   "metadata": {},
   "source": [
    "# Q1-如果“kind”参数的值为“add”或未传入，则此做加法运算，否则做减法运算。\n",
    "# 请分别写出实现加法和减法的完整代码。"
   ]
  },
  {
   "cell_type": "code",
   "execution_count": 1,
   "metadata": {},
   "outputs": [
    {
     "data": {
      "text/plain": [
       "3"
      ]
     },
     "execution_count": 1,
     "metadata": {},
     "output_type": "execute_result"
    }
   ],
   "source": [
    "#加法\n",
    "def do_math(a,b,kind='add'):\n",
    "    if(kind=='add'):\n",
    "        return a+b\n",
    "    else:\n",
    "        return a-b\n",
    "do_math(1,2,kind='add')\n",
    "#do_math(1,2) 或不传入kind"
   ]
  },
  {
   "cell_type": "code",
   "execution_count": 2,
   "metadata": {},
   "outputs": [
    {
     "data": {
      "text/plain": [
       "-1"
      ]
     },
     "execution_count": 2,
     "metadata": {},
     "output_type": "execute_result"
    }
   ],
   "source": [
    "#减法\n",
    "def do_math(a,b,kind='add'):\n",
    "    if(kind=='add'):\n",
    "        return a+b\n",
    "    else:\n",
    "        return a-b\n",
    "do_math(1,2,kind=1)#kind赋予除add外的任何值"
   ]
  },
  {
   "cell_type": "markdown",
   "metadata": {},
   "source": [
    "# Q2-从字符串“Dr. Christopher Brooks”中获取名称“Christopher”的适当方法是什么？"
   ]
  },
  {
   "cell_type": "code",
   "execution_count": 1,
   "metadata": {},
   "outputs": [
    {
     "name": "stdout",
     "output_type": "stream",
     "text": [
      "Christopher\n"
     ]
    }
   ],
   "source": [
    "x='Dr. Christopher Brooks'\n",
    "print(x.split(' ')[1])"
   ]
  },
  {
   "cell_type": "markdown",
   "metadata": {},
   "source": [
    "# Q3-在mpg.csv文件中设置浮点数的精度值为3，按汽车的不同起源（origin）类别，统计汽车马力（horsepower）的平均值。"
   ]
  },
  {
   "cell_type": "code",
   "execution_count": 4,
   "metadata": {},
   "outputs": [],
   "source": [
    "import csv\n",
    "\n",
    "%precision 3\n",
    "\n",
    "with open('mpg.csv') as csvfile:\n",
    "    mpg = list(csv.DictReader(csvfile))  "
   ]
  },
  {
   "cell_type": "code",
   "execution_count": 5,
   "metadata": {},
   "outputs": [
    {
     "data": {
      "text/plain": [
       "{'1', '2', '3'}"
      ]
     },
     "execution_count": 5,
     "metadata": {},
     "output_type": "execute_result"
    }
   ],
   "source": [
    "origin = set(d['origin'] for d in mpg)\n",
    "origin"
   ]
  },
  {
   "cell_type": "code",
   "execution_count": 6,
   "metadata": {},
   "outputs": [
    {
     "data": {
      "text/plain": [
       "[('1', 119.787), ('2', 83.829), ('3', 79.835)]"
      ]
     },
     "execution_count": 6,
     "metadata": {},
     "output_type": "execute_result"
    }
   ],
   "source": [
    "#按汽车的不同起源（origin）类别，统计汽车马力（horsepower）的平均值\n",
    "hpByOrigin = []\n",
    "\n",
    "for c in origin: \n",
    "    sumhp = 0\n",
    "    oritypecount = 0\n",
    "    for d in mpg: \n",
    "        if d['origin'] == c: \n",
    "            sumhp += float(d['horsepower']) \n",
    "            oritypecount += 1 \n",
    "    hpByOrigin.append((c, sumhp / oritypecount)) \n",
    "\n",
    "hpByOrigin.sort(key=lambda x: x[0]) \n",
    "hpByOrigin"
   ]
  },
  {
   "cell_type": "markdown",
   "metadata": {},
   "source": [
    "# Q4-这是一个学生名单，写一个函数并使用map（）来获取所有学生姓名和年龄的列表"
   ]
  },
  {
   "cell_type": "code",
   "execution_count": 7,
   "metadata": {},
   "outputs": [
    {
     "data": {
      "text/plain": [
       "['Christy is 18', 'Bob is 19', 'Malina is 20', 'Ford is 17']"
      ]
     },
     "execution_count": 7,
     "metadata": {},
     "output_type": "execute_result"
    }
   ],
   "source": [
    "people = ['Christy male 18', 'Bob male 19', 'Malina female 20', 'Ford male 17']\n",
    "\n",
    "def split_name_and_age(person):\n",
    "    name=person.split(' ')[0]\n",
    "    age=person.split(' ')[2]\n",
    "    return '{} is {}'.format(name, age)\n",
    "    #return name+' is '+age\n",
    "\n",
    "list(map(split_name_and_age,people))"
   ]
  },
  {
   "cell_type": "code",
   "execution_count": null,
   "metadata": {},
   "outputs": [],
   "source": []
  }
 ],
 "metadata": {
  "kernelspec": {
   "display_name": "Python 3",
   "language": "python",
   "name": "python3"
  },
  "language_info": {
   "codemirror_mode": {
    "name": "ipython",
    "version": 3
   },
   "file_extension": ".py",
   "mimetype": "text/x-python",
   "name": "python",
   "nbconvert_exporter": "python",
   "pygments_lexer": "ipython3",
   "version": "3.7.4"
  }
 },
 "nbformat": 4,
 "nbformat_minor": 2
}

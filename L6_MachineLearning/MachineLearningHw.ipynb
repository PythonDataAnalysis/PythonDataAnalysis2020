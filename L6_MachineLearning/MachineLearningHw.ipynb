{
 "cells": [
  {
   "cell_type": "markdown",
   "metadata": {},
   "source": [
    "## Q1-导入预置的波士顿房价数据集\n",
    "- 设置房价为Y，剩余参数为X，30%为测试集\n",
    "- 用线性回归模型拟合波士顿房价数据集\n",
    "- 用训练完的模型进行预测\n",
    "- 输出线性回归模型的斜率和截距"
   ]
  },
  {
   "cell_type": "code",
   "execution_count": 1,
   "metadata": {},
   "outputs": [],
   "source": [
    "from sklearn import datasets\n",
    "from sklearn.model_selection import train_test_split\n",
    "import numpy as np\n",
    "import pandas as pd"
   ]
  },
  {
   "cell_type": "code",
   "execution_count": 2,
   "metadata": {},
   "outputs": [],
   "source": [
    "X, y = datasets.load_boston(return_X_y=True)"
   ]
  },
  {
   "cell_type": "code",
   "execution_count": 3,
   "metadata": {},
   "outputs": [],
   "source": [
    "X_train, X_test, y_train, y_test = train_test_split(X, y, test_size=0.3)"
   ]
  },
  {
   "cell_type": "code",
   "execution_count": 4,
   "metadata": {},
   "outputs": [],
   "source": [
    "from sklearn.linear_model import LinearRegression\n",
    "model = LinearRegression(fit_intercept=True, normalize=False, copy_X=True, n_jobs=1)"
   ]
  },
  {
   "cell_type": "code",
   "execution_count": 5,
   "metadata": {},
   "outputs": [
    {
     "data": {
      "text/plain": [
       "LinearRegression(copy_X=True, fit_intercept=True, n_jobs=1, normalize=False)"
      ]
     },
     "execution_count": 5,
     "metadata": {},
     "output_type": "execute_result"
    }
   ],
   "source": [
    "model.fit(X_train, y_train)"
   ]
  },
  {
   "cell_type": "code",
   "execution_count": 6,
   "metadata": {},
   "outputs": [
    {
     "data": {
      "text/plain": [
       "array([22.61136536, 31.74349207, 11.46414157, 20.72812763, 21.91627265,\n",
       "        2.73570275, 28.71231396, 23.49217082, 30.14837763, 37.17820727,\n",
       "       16.60879539, 19.88085305, 35.50065484, 30.94887544, 15.7700112 ,\n",
       "       16.27119217, 17.43918767, 11.40520803, 22.0738634 , 20.6754559 ,\n",
       "       17.65673593, 31.01951924, 25.9236425 , 11.10043617, 33.96536195,\n",
       "       25.44608734, 12.5897702 , 35.01018134, 18.38873648,  6.9732487 ,\n",
       "       38.60844124, 28.45495985, 20.47997987, 19.56997468, 16.12427705,\n",
       "       35.9994009 , 27.18423012, 19.32064857, 13.98444086, 29.46052145,\n",
       "       19.8656528 , 17.17660873, 18.81504602, 26.95388913, 17.80788051,\n",
       "       15.8639666 , 32.96162544, 33.03077583, 24.53062957, 17.05417842,\n",
       "       15.78457588, 16.70045735, 25.35099077, 27.86815512, 13.38571776,\n",
       "       41.68713825, 24.15691534, 32.73186922, 15.78636597, 19.80276635,\n",
       "       11.9328757 , 19.43889965, 23.11709767, 23.66293254, 20.65424389,\n",
       "       22.4786409 , 17.05894698, 20.35698044, 18.55048345, 37.26180521,\n",
       "       25.64098983, 20.78753411, 37.94192897,  5.94231489, 27.53834758,\n",
       "       13.62502561, 32.00037015, 24.0879505 , 24.45143234, 21.29834193,\n",
       "       19.33671095, 24.86249138, 28.78928099,  8.11925016, 17.45885981,\n",
       "       25.2692322 , 20.72624585, 28.92691353, 23.65744142, 12.82084396,\n",
       "       29.35215884, 33.36425533, 32.57006951, 27.56612179, 19.24577196,\n",
       "       16.94604363, 18.06376625, 23.59030341, 22.3781151 , 34.0301414 ,\n",
       "       27.20313505, 18.80278194, 14.51531237, 17.3708175 , 17.99485835,\n",
       "       28.11337473, 24.47205883, 25.40917111, 18.98074777, 23.93599002,\n",
       "       18.36338103, 19.86136689, 27.28316044, 24.87356071, 41.46724435,\n",
       "       22.37466713, 22.30980396, 31.20449356, 20.18883026, 26.19487143,\n",
       "       35.32402391, 36.69291922, 30.82587919, 16.27113266, 29.75981522,\n",
       "       17.09414763, 44.74268503, 22.34250771, 23.18230144, 19.37414515,\n",
       "       32.34271391, 28.36898116, 17.13645068, 40.40074459, 19.56483986,\n",
       "       17.0155887 , 22.41638225, 21.38845809,  8.36889426, 20.49098145,\n",
       "       25.29532036, 21.26649336, 15.13243442, 26.49498359, 20.88231594,\n",
       "       27.67871063, 13.82216267, 21.16203727, 15.39182993, 18.54859093,\n",
       "       18.88097983, 25.47664258])"
      ]
     },
     "execution_count": 6,
     "metadata": {},
     "output_type": "execute_result"
    }
   ],
   "source": [
    "model.predict(X_test)"
   ]
  },
  {
   "cell_type": "code",
   "execution_count": 7,
   "metadata": {},
   "outputs": [
    {
     "name": "stdout",
     "output_type": "stream",
     "text": [
      "[-8.34785576e-02  4.02055901e-02  5.09293022e-02  3.17024364e+00\n",
      " -2.00537557e+01  3.58203225e+00  7.00302599e-03 -1.52688342e+00\n",
      "  3.51721194e-01 -1.58822018e-02 -9.94159447e-01  8.18827811e-03\n",
      " -5.57117197e-01]\n",
      "41.20210111852593\n"
     ]
    }
   ],
   "source": [
    "print(model.coef_)\n",
    "print(model.intercept_)"
   ]
  },
  {
   "cell_type": "markdown",
   "metadata": {},
   "source": [
    "## Q2-使用随机森林对鸢尾花数据集进行预测，n_estimators=100\n",
    "* 20%为测试集\n",
    "* 给产生的随机森林模型打分\n",
    "* 输出模型的classification_report:precision_score、recall_score、f1_score"
   ]
  },
  {
   "cell_type": "code",
   "execution_count": 8,
   "metadata": {},
   "outputs": [],
   "source": [
    "from sklearn.ensemble import RandomForestClassifier"
   ]
  },
  {
   "cell_type": "code",
   "execution_count": 9,
   "metadata": {},
   "outputs": [],
   "source": [
    "X,y = datasets.load_iris(return_X_y=True)\n",
    "X_train, X_test, y_train, y_test = train_test_split(X, y, test_size=0.2)"
   ]
  },
  {
   "cell_type": "code",
   "execution_count": 10,
   "metadata": {},
   "outputs": [
    {
     "data": {
      "text/plain": [
       "array([1, 2, 2, 1, 0, 1, 2, 0, 0, 1, 0, 2, 1, 2, 1, 2, 2, 0, 2, 0, 1, 1,\n",
       "       2, 0, 2, 1, 0, 2, 2, 2])"
      ]
     },
     "execution_count": 10,
     "metadata": {},
     "output_type": "execute_result"
    }
   ],
   "source": [
    "clf = RandomForestClassifier(n_estimators=100)\n",
    "clf.fit(X_train, y_train)\n",
    "y_pred = clf.predict(X_test)\n",
    "y_pred"
   ]
  },
  {
   "cell_type": "code",
   "execution_count": 11,
   "metadata": {},
   "outputs": [
    {
     "data": {
      "text/plain": [
       "0.98"
      ]
     },
     "execution_count": 11,
     "metadata": {},
     "output_type": "execute_result"
    }
   ],
   "source": [
    "clf.score(X,y)"
   ]
  },
  {
   "cell_type": "code",
   "execution_count": 12,
   "metadata": {},
   "outputs": [
    {
     "name": "stdout",
     "output_type": "stream",
     "text": [
      "              precision    recall  f1-score   support\n",
      "\n",
      "           0       1.00      1.00      1.00         8\n",
      "           1       0.78      0.88      0.82         8\n",
      "           2       0.92      0.86      0.89        14\n",
      "\n",
      "    accuracy                           0.90        30\n",
      "   macro avg       0.90      0.91      0.90        30\n",
      "weighted avg       0.90      0.90      0.90        30\n",
      "\n"
     ]
    }
   ],
   "source": [
    "from sklearn.metrics import classification_report\n",
    "print(classification_report(y_test, y_pred))"
   ]
  },
  {
   "cell_type": "markdown",
   "metadata": {},
   "source": [
    "## Q3-生成一组数据，10000个样本，3个特征，4个簇\n",
    "- 对数据进行pca同纬度数量的投影，展示投影后的三个维度的分布\n",
    "- 将3维数据降到2维\n",
    "- 指定降维后主成分方差的比例（99%）进行降维"
   ]
  },
  {
   "cell_type": "code",
   "execution_count": 21,
   "metadata": {},
   "outputs": [],
   "source": [
    "from mpl_toolkits.mplot3d import Axes3D\n",
    "from sklearn.decomposition import PCA"
   ]
  },
  {
   "cell_type": "code",
   "execution_count": 22,
   "metadata": {},
   "outputs": [],
   "source": [
    "X, y = datasets.make_blobs(n_samples=10000, n_features=3, centers=[[3,3,3], [0,0,0], [1,1,1], [2,2,2]], \n",
    "                           cluster_std=[0.2, 0.1, 0.2, 0.2], random_state = 42)"
   ]
  },
  {
   "cell_type": "code",
   "execution_count": 24,
   "metadata": {},
   "outputs": [
    {
     "data": {
      "text/plain": [
       "<mpl_toolkits.mplot3d.art3d.Path3DCollection at 0x1a22c042d0>"
      ]
     },
     "execution_count": 24,
     "metadata": {},
     "output_type": "execute_result"
    },
    {
     "data": {
      "image/png": "[encoded data removed]",
      "text/plain": [
       "<Figure size 432x288 with 1 Axes>"
      ]
     },
     "metadata": {
      "needs_background": "light"
     },
     "output_type": "display_data"
    }
   ],
   "source": [
    "fig = plt.figure()\n",
    "ax = Axes3D(fig, rect=[0, 0, 1, 1], elev=30, azim=20)\n",
    "plt.scatter(X[:, 0], X[:, 1], X[:, 2],marker='o')"
   ]
  },
  {
   "cell_type": "code",
   "execution_count": 25,
   "metadata": {},
   "outputs": [
    {
     "name": "stdout",
     "output_type": "stream",
     "text": [
      "[0.982957   0.00867876 0.00836424]\n",
      "[3.77602199 0.03333939 0.03213118]\n"
     ]
    }
   ],
   "source": [
    "pca = PCA(n_components=3)\n",
    "pca.fit(X)\n",
    "print (pca.explained_variance_ratio_)\n",
    "print (pca.explained_variance_)"
   ]
  },
  {
   "cell_type": "code",
   "execution_count": 26,
   "metadata": {},
   "outputs": [
    {
     "name": "stdout",
     "output_type": "stream",
     "text": [
      "[0.982957   0.00867876]\n",
      "[3.77602199 0.03333939]\n"
     ]
    },
    {
     "data": {
      "image/png": "[encoded data removed]",
      "text/plain": [
       "<Figure size 432x288 with 1 Axes>"
      ]
     },
     "metadata": {
      "needs_background": "light"
     },
     "output_type": "display_data"
    }
   ],
   "source": [
    "pca = PCA(n_components=2)\n",
    "pca.fit(X)\n",
    "print (pca.explained_variance_ratio_)\n",
    "print (pca.explained_variance_)\n",
    "\n",
    "X_new = pca.transform(X)\n",
    "plt.scatter(X_new[:, 0], X_new[:, 1],marker='o')\n",
    "plt.show()"
   ]
  },
  {
   "cell_type": "code",
   "execution_count": 27,
   "metadata": {},
   "outputs": [
    {
     "name": "stdout",
     "output_type": "stream",
     "text": [
      "[0.982957   0.00867876]\n",
      "[3.77602199 0.03333939]\n",
      "2\n"
     ]
    }
   ],
   "source": [
    "pca = PCA(n_components=0.99)\n",
    "pca.fit(X)\n",
    "print (pca.explained_variance_ratio_)\n",
    "print (pca.explained_variance_)\n",
    "print (pca.n_components_)"
   ]
  },
  {
   "cell_type": "code",
   "execution_count": null,
   "metadata": {},
   "outputs": [],
   "source": []
  }
 ],
 "metadata": {
  "kernelspec": {
   "display_name": "Python 3",
   "language": "python",
   "name": "python3"
  },
  "language_info": {
   "codemirror_mode": {
    "name": "ipython",
    "version": 3
   },
   "file_extension": ".py",
   "mimetype": "text/x-python",
   "name": "python",
   "nbconvert_exporter": "python",
   "pygments_lexer": "ipython3",
   "version": "3.7.4"
  }
 },
 "nbformat": 4,
 "nbformat_minor": 2
}
